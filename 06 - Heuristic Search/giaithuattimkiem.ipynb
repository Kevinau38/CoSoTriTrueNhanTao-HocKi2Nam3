{
 "cells": [
  {
   "cell_type": "markdown",
   "id": "d810fb32",
   "metadata": {},
   "source": [
    "# CÁC THUẬT GIẢI TÌM KIẾM HEURISTICS\n"
   ]
  },
  {
   "cell_type": "markdown",
   "id": "45f9f521",
   "metadata": {},
   "source": [
    "## Nội dung\n",
    "1. Tìm kiếm với tri thức bổ sung\n",
    "\n",
    "- Tháp Hà Nội\n",
    "\n",
    "- Taci\n",
    "\n",
    "- Đong sữa\n",
    "\n",
    "2. Bài toán người bán hàng (TSP - Traveling Salesman Problem)\n",
    "\n",
    "- Thuật giải min-max"
   ]
  },
  {
   "cell_type": "markdown",
   "id": "0f52b3ce",
   "metadata": {},
   "source": [
    "## Thuật giải tìm kiếm với tri thức bổ sung"
   ]
  },
  {
   "cell_type": "markdown",
   "id": "d238817d",
   "metadata": {},
   "source": [
    "### Aᵀ (Algorithm for Tree Search)\n",
    "1. Mọi đỉnh n, mọi hàm g đều ẩn\n",
    "\n",
    "- Mở đỉnh S₀\n",
    "\n",
    "- Gán g(S₀) = 0\n",
    "\n",
    "2. Chọn đỉnh mở với hàm g là nhỏ nhất và gọi là đỉnh n.\n",
    "\n",
    "- Nếu u là đích thì đường đi từ S₀ → u là đường đi ngắn nhất."
   ]
  },
  {
   "cell_type": "markdown",
   "id": "ebc562f6",
   "metadata": {},
   "source": [
    "### Aᵀ (Algorithm for Tree Search)\n",
    "1. Nếu tồn tại nhiều hơn một đỉnh n có hàm g là nhỏ nhất thì ta kiểm tra xem trong đó có đỉnh nào là đích hay không, nếu có dừng. Nếu không thì chọn ngẫu nhiên 1 đỉnh gọi là đỉnh u.\n",
    "\n",
    "2. Nếu không tồn tại đỉnh mở tương ứng thì cây biểu diễn vấn đề không có đường đi ngắn nhất đến đích. Dừng lại.\n",
    "\n",
    "3. Đóng n và mở mọi đỉnh sau n (có cùng hướng từ u đến)\n",
    "\n",
    "- ∀ đỉnh S sau n:\n",
    "\n",
    "- G(s) = g(u) + giá thành (u → s) // cost(u,s)\n",
    "\n",
    "4. Lặp lại bước 2."
   ]
  },
  {
   "cell_type": "markdown",
   "id": "73d2e3fc",
   "metadata": {},
   "source": [
    "### Ví dụ\n",
    "\n",
    "- Cho cây tìm kiếm sau:\n",
    "\n",
    "![image](caytimkiem.png)\n",
    "\n",
    "- Tìm đường đi ngắn nhất từ A → đích "
   ]
  },
  {
   "cell_type": "code",
   "execution_count": 5,
   "id": "3b3c1fca",
   "metadata": {},
   "outputs": [],
   "source": [
    "class TreeSearch:\n",
    "    def __init__(self, graph):\n",
    "        self.graph = graph\n",
    "        self.opened = []\n",
    "        self.closed = []\n",
    "        self.g = {}\n",
    "        self.parent = {}  # Để lưu đường đi\n",
    "\n",
    "    def search(self, start, goal):\n",
    "        self.opened.append(start)\n",
    "        self.g[start] = 0\n",
    "        self.parent[start] = None\n",
    "\n",
    "        while self.opened:\n",
    "            # Bước 2: Chọn đỉnh có g nhỏ nhất\n",
    "            min_g = min(self.g[node] for node in self.opened)\n",
    "            candidates = [node for node in self.opened if self.g[node] == min_g]\n",
    "\n",
    "            # Kiểm tra nếu có đỉnh nào là đích\n",
    "            for node in candidates:\n",
    "                if node == goal:\n",
    "                    return self.reconstruct_path(goal)\n",
    "\n",
    "            # Nếu không, chọn ngẫu nhiên một đỉnh\n",
    "            n = candidates[0]  # Hoặc sử dụng random.choice(candidates)\n",
    "            self.opened.remove(n)\n",
    "            self.closed.append(n)\n",
    "\n",
    "            # Bước 3: Mở các đỉnh sau n\n",
    "            for neighbor in self.graph[n]:\n",
    "                if neighbor in self.closed:\n",
    "                    continue\n",
    "\n",
    "                new_g = self.g[n] + self.graph[n][neighbor]\n",
    "\n",
    "                if neighbor not in self.g or new_g < self.g[neighbor]:\n",
    "                    self.g[neighbor] = new_g\n",
    "                    self.parent[neighbor] = n\n",
    "                    if neighbor not in self.opened:\n",
    "                        self.opened.append(neighbor)\n",
    "\n",
    "        # Bước 2: Không tồn tại đỉnh mở\n",
    "        return None  # Không tìm thấy đường đi\n",
    "\n",
    "    def reconstruct_path(self, node):\n",
    "        path = []\n",
    "        while node is not None:\n",
    "            path.append(node)\n",
    "            node = self.parent[node]\n",
    "        return path[::-1]"
   ]
  },
  {
   "cell_type": "code",
   "execution_count": 6,
   "id": "d3315046",
   "metadata": {},
   "outputs": [
    {
     "name": "stdout",
     "output_type": "stream",
     "text": [
      "Shortest path: ['A', 'D', 'R', 'S']\n"
     ]
    }
   ],
   "source": [
    "graph = {\n",
    "    'A': {'B': 2, 'C': 1, 'D': 3},\n",
    "    'B': {'E': 5, 'F': 1},\n",
    "    'C': {'H': 4},\n",
    "    'D': {'J': 2, 'R': 3},\n",
    "    'E': {},\n",
    "    'F': {'G': 6},\n",
    "    'H': {'I': 3},\n",
    "    'J': {'L': 3},\n",
    "    'R': {'S': 1},\n",
    "    'G': {},\n",
    "    'I': {},\n",
    "    'L': {},\n",
    "    'S': {}\n",
    "}\n",
    "\n",
    "searcher = TreeSearch(graph)\n",
    "path = searcher.search('A', 'S')\n",
    "print(\"Shortest path:\", path)"
   ]
  },
  {
   "cell_type": "markdown",
   "id": "35d07d38",
   "metadata": {},
   "source": [
    "### Thuật giải Aᴷᵀ\n",
    "\n",
    "**B1:** Mọi đỉnh n, mọi hàm g,h,f đều ẩn.\n",
    "\n",
    "- Mở đỉnh đầu tiên S₀\n",
    "\n",
    "- Gán g(S₀) = 0\n",
    "\n",
    "- Sử dụng tri thức bổ sung ước lượng h(S₀)\n",
    "\n",
    "- F(S₀) = h(S₀)"
   ]
  }
 ],
 "metadata": {
  "kernelspec": {
   "display_name": "Python 3",
   "language": "python",
   "name": "python3"
  },
  "language_info": {
   "codemirror_mode": {
    "name": "ipython",
    "version": 3
   },
   "file_extension": ".py",
   "mimetype": "text/x-python",
   "name": "python",
   "nbconvert_exporter": "python",
   "pygments_lexer": "ipython3",
   "version": "3.12.1"
  }
 },
 "nbformat": 4,
 "nbformat_minor": 5
}
