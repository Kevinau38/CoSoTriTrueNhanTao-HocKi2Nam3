{
 "cells": [
  {
   "cell_type": "markdown",
   "id": "d810fb32",
   "metadata": {},
   "source": [
    "# CÁC THUẬT GIẢI TÌM KIẾM HEURISTICS\n"
   ]
  },
  {
   "cell_type": "markdown",
   "id": "45f9f521",
   "metadata": {},
   "source": [
    "## Nội dung\n",
    "- Tìm kiếm với tri thức bổ sung\n",
    "  + Tháp Hà Nội\n",
    "  + Taci\n",
    "  + Đong sữa\n",
    "- Bài toán người bán hàng (TSP - Traveling Salesman Problem)\n",
    "- Thuật giải min-max"
   ]
  },
  {
   "cell_type": "markdown",
   "id": "0f52b3ce",
   "metadata": {},
   "source": [
    "## Thuật giải tìm kiếm với tri thức bổ sung"
   ]
  },
  {
   "cell_type": "markdown",
   "id": "d238817d",
   "metadata": {},
   "source": [
    "### AT (Algorithm for Tree Search)\n",
    "1. Mọi đỉnh n, mọi hàm g đều ẩn\n",
    "   - Mở đỉnh S₀\n",
    "   - Gán g(S₀) = 0\n",
    "2. Chọn đỉnh mở với hàm g là nhỏ nhất và gọi là đỉnh n.\n",
    "   - Nếu u là đích thì đường đi từ S₀ → u là đường đi ngắn nhất."
   ]
  }
 ],
 "metadata": {
  "language_info": {
   "name": "python"
  }
 },
 "nbformat": 4,
 "nbformat_minor": 5
}
