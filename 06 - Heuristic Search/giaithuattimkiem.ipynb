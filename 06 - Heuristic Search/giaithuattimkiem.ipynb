{
 "cells": [
  {
   "cell_type": "markdown",
   "id": "d810fb32",
   "metadata": {},
   "source": [
    "# CÁC THUẬT GIẢI TÌM KIẾM HEURISTICS\n"
   ]
  },
  {
   "cell_type": "markdown",
   "id": "45f9f521",
   "metadata": {},
   "source": [
    "## Nội dung\n",
    "- Tìm kiếm với tri thức bổ sung\n",
    "  + Tháp Hà Nội\n",
    "  + Taci\n",
    "  + Đong sữa\n",
    "- Bài toán người bán hàng (TSP - Traveling Salesman Problem)\n",
    "- Thuật giải min-max"
   ]
  }
 ],
 "metadata": {
  "language_info": {
   "name": "python"
  }
 },
 "nbformat": 4,
 "nbformat_minor": 5
}
