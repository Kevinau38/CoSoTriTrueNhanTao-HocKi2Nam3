{
 "cells": [
  {
   "cell_type": "markdown",
   "metadata": {},
   "source": [
    "# Buổi 4: Tìm kiếm trong không gian trạng thái"
   ]
  },
  {
   "cell_type": "markdown",
   "metadata": {},
   "source": [
    "### Bài 1. Biễu diễn đồ thị\n",
    "\n",
    "Cho đồ thị hàm số **G** (**V**, **E**) như bên dưới:\n",
    "\n",
    "![image](dothi.png)"
   ]
  },
  {
   "cell_type": "markdown",
   "metadata": {},
   "source": [
    "#### 1. Biễu diễn bằng danh sách / ma trận kề"
   ]
  },
  {
   "cell_type": "code",
   "execution_count": null,
   "metadata": {},
   "outputs": [],
   "source": [
    "ADJ = {\n",
    "    'A': ['C', 'D', 'E', 'F'],\n",
    "    'C': ['H'],\n",
    "    'D': ['E', 'H'],\n",
    "    'E': ['K', 'I'],\n",
    "    'F': ['I', 'G'],\n",
    "    'H': ['K'],\n",
    "    'K': ['B'],\n",
    "    'I': ['K','B'],\n",
    "    'G': [],\n",
    "    'B': []\n",
    "}\n",
    "# In danh sách kề\n",
    "for node, neighbors in ADJ.items():\n",
    "    print(f\"{node} -> {', '.join(neighbors) if neighbors else '∅'}\")"
   ]
  },
  {
   "cell_type": "code",
   "execution_count": null,
   "metadata": {},
   "outputs": [],
   "source": [
    "import pprint\n",
    "pprint.pprint(ADJ)"
   ]
  },
  {
   "cell_type": "markdown",
   "metadata": {},
   "source": [
    "#### 2. Thao tác duyệt đồ thị\n",
    "(a) Liệt kê các đỉnh trong đồ thị <br/>\n",
    "(b) Liệt kê tất cả các cạnh đồ thị hiển thị dạng danh sách kề <br/>\n",
    "(c) Cho hai đỉnh A, B. Hỏi hai đỉnh A, B có kề nhau không? <br/>\n",
    "(d) Cho một đỉnh A. Hỏi danh sách các đỉnh kề với A <br/>"
   ]
  },
  {
   "cell_type": "code",
   "execution_count": null,
   "metadata": {},
   "outputs": [],
   "source": [
    "print(\"2. Thao tác duyệt đồ thị\")"
   ]
  },
  {
   "cell_type": "code",
   "execution_count": null,
   "metadata": {},
   "outputs": [],
   "source": [
    "print(\"(a) Liệt kê các đỉnh trong đồ thị\")\n",
    "print(\"Các đỉnh của đồ thị: \", end = \" \")\n",
    "vertices = sorted(ADJ.keys()) # Sắp xếp theo theo thứ tự bảng chữ cái (tùy chọn)\n",
    "print (\" \".join(vertices))\n",
    "# ... "
   ]
  },
  {
   "cell_type": "code",
   "execution_count": null,
   "metadata": {},
   "outputs": [],
   "source": [
    "print(\"(b) Liệt kê tất cả các cạnh đồ thị hiển thị dạng danh sách kề\")\n",
    "print(\"Danh sách kề của đồ thị: \")\n",
    "\n",
    "def HienThiDoThi(G):\n",
    "    for u in sorted(G.keys()): # Duyệt qua từng đỉnh theo thứ tự chữ cái\n",
    "        neighbors = \" , \".join(sorted(G[u])) if G[u] else \"\" # Lấy danh sách các đỉnh kề \n",
    "        print(f\"+ Đỉnh {u}: {neighbors}\")\n",
    "\n",
    "HienThiDoTh(ADJ)        "
   ]
  },
  {
   "cell_type": "code",
   "execution_count": null,
   "metadata": {},
   "outputs": [],
   "source": [
    "G = ADJ\n",
    "def LaKe(G, a, b):\n",
    "    \"\"\"\n",
    "    Kiểm tra xem hai đỉnh a và b có kề nhau không.\n",
    "\n",
    "    return:\n",
    "        -1: Nếu a hoặc b không tồn tại\n",
    "         0: Nếu a tồn tại nhưng không kề b\n",
    "         1: Nếu a tồn tại và kề b\n",
    "    \"\"\"\n",
    "    if a not in G or b not in G:\n",
    "        return -1\n",
    "    return 1 if b in G[a] else 0\n",
    "print(LaKe(G,'A','B'))"
   ]
  },
  {
   "cell_type": "code",
   "execution_count": null,
   "metadata": {},
   "outputs": [],
   "source": [
    "a = \"L\"; b = \"R\"; print(f\"{a} ke {b}: {LaKe(ADJ, a, b)}\")\n",
    "a = \"A\"; b = \"R\"; print(f\"{a} ke {b}: {LaKe(ADJ, a, b)}\")\n",
    "a = \"E\"; b = \"D\"; print(f\"{a} ke {b}: {LaKe(ADJ, a, b)}\")\n",
    "a = \"D\"; b = \"E\"; print(f\"{a} ke {b}: {LaKe(ADJ, a, b)}\")"
   ]
  },
  {
   "cell_type": "code",
   "execution_count": null,
   "metadata": {},
   "outputs": [
    {
     "name": "stdout",
     "output_type": "stream",
     "text": [
      "(d) Cho một đỉnh A. Hỏi danh sách các đỉnh kề với A\n"
     ]
    }
   ],
   "source": [
    "print(\"(d) Cho một đỉnh A. Hỏi danh sách các đỉnh kề với A\")\n",
    "\n",
    "def LayKe(G, a):\n",
    "    \"\"\"\n",
    "    input: G, a\n",
    "    return:\n",
    "    + None: neu a khong ton tai\n",
    "    + [] : a khong ke voi bat ky dinh nao\n",
    "    + [X, y, ...]: mang cac dinh ke voi a\n",
    "    \"\"\"\n",
    "    if a not in G:\n",
    "        return None # Đỉnh không tồn tại\n",
    "    return list(G[a])\n",
    "    # ...\n",
    "\n",
    "    return result\n",
    "a = \"p\"; print(f\"Danh sach ke voi dinh {a}: {LayKe(ADJ, a)}\")\n",
    "b = \"A\"; print(f\"Danh sach ke voi dinh {a}: {LayKe(ADJ, a)}\")\n",
    "a = \"B\"; print(f\"Danh sach ke voi dinh {a}: {LayKe(ADJ, a)}\")\n",
    "a = \"D\"; print(f\"Danh sach ke voi dinh {a}: {LayKe(ADJ, a)}\")"
   ]
  },
  {
   "cell_type": "markdown",
   "metadata": {},
   "source": [
    "#### 3. Đọc và lưu đồ thị\n",
    "**dske.txt**\n",
    "```\n",
    "10          # số đỉnh đồ thị\n",
    "A C E F D   # đỉnh A kề với C E F D\n",
    "B           đỉnh B không kề với ai\n",
    "C H\n",
    "D E H\n",
    "E K I\n",
    "F I G\n",
    "G\n",
    "H K\n",
    "I K B\n",
    "K B\n",
    "```"
   ]
  },
  {
   "cell_type": "code",
   "execution_count": null,
   "metadata": {},
   "outputs": [],
   "source": [
    "print(\"1. Lưu đồ thị xuống tập tin\")\n",
    "\n",
    "def LuuDoThi(G, file_path, verbose = True):\n",
    "    import os\n",
    "\n",
    "    \"\"\" CÁC BẠN LÀM BÀI Ở ĐÂY \"\"\"\n",
    "\n",
    "    # Tạo thư mục chứ file_path\n",
    "    file_dir = os.path.dirname(file_path)\n",
    "    if file_dir != \"\" and os.path.exists(file_path) == False:\n",
    "        os.makedirs(file_dir)\n",
    "        if verbose: print(f\"+ Tao thu muc: {file_dir}\")\n",
    "\n",
    "    # Lưu đồ thị\n",
    "    with open(file_path, \"wt\") as file:\n",
    "        for node, neighbors in G.items():\n",
    "            line = f\"{node}: {' '.join(neighbors)}\\n\"\n",
    "    if verbose: print(f\"Luu do thi thanh cong xuong tap tin: {file_path}\")\n",
    "ADJ = { 'A':['C','D','E','F'],\n",
    "        'B':[],\n",
    "        'C':['H'],\n",
    "        'D':['H','E'],\n",
    "        'E':['K','I'],\n",
    "        'F':['I','G'],\n",
    "        'G':[],\n",
    "        'H':['K'],\n",
    "        'I':['B','K'],\n",
    "        'K':['B'],\n",
    "}\n",
    "LuuDoThi(ADJ, \"dske1.txt\", verbose = True)\n",
    "with open (\"dske1.txt\",\"rt\") as file:\n",
    "    lines = file.readline()\n",
    "    for line in lines: print(line, end=\"\")"
   ]
  },
  {
   "cell_type": "code",
   "execution_count": null,
   "metadata": {},
   "outputs": [],
   "source": [
    "print(\"2. Đọc đồ thị từ tập tin\")\n",
    "import pprint\n",
    "\n",
    "def DocDoThi(file_path, verbose = True):\n",
    "    \"\"\"\n",
    "    return:\n",
    "    + None: doc that bai\n",
    "    + <>None: tra ve do thi\n",
    "    \"\"\"\n",
    "    import os\n",
    "\n",
    "    result = None\n",
    "    if os.path.exists(file_path) == False:\n",
    "        result = None\n",
    "    else:\n",
    "        G = {}\n",
    "        with open (file_path, \"rt\") as file:\n",
    "            n = int(file.readline())\n",
    "            \"\"\" CÁC BẠN LÀM BÀI Ở ĐÂY \"\"\"\n",
    "            # ...\n",
    "\n",
    "            pass\n",
    "        result = G\n",
    "    return result\n",
    "\n",
    "G1 = DocDoThi(\"dske1.txt\", verbose = True)\n",
    "pprint.pprint(G1)"
   ]
  }
 ],
 "metadata": {
  "kernelspec": {
   "display_name": "Python 3",
   "language": "python",
   "name": "python3"
  },
  "language_info": {
   "codemirror_mode": {
    "name": "ipython",
    "version": 3
   },
   "file_extension": ".py",
   "mimetype": "text/x-python",
   "name": "python",
   "nbconvert_exporter": "python",
   "pygments_lexer": "ipython3",
   "version": "3.12.1"
  }
 },
 "nbformat": 4,
 "nbformat_minor": 2
}
